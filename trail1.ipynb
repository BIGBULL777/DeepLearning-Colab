{
  "cells": [
    {
      "cell_type": "markdown",
      "metadata": {
        "id": "view-in-github",
        "colab_type": "text"
      },
      "source": [
        "<a href=\"https://colab.research.google.com/github/maheshmahi1729/DeepLearning-Colab/blob/main/trail1.ipynb\" target=\"_parent\"><img src=\"https://colab.research.google.com/assets/colab-badge.svg\" alt=\"Open In Colab\"/></a>"
      ]
    },
    {
      "cell_type": "code",
      "execution_count": null,
      "metadata": {
        "id": "ISvr62ovhHNq"
      },
      "outputs": [],
      "source": [
        "#DataFlair Project\n",
        "#import all the required libraries\n",
        "import numpy as np\n",
        "import pandas as pd\n",
        "import pickle\n",
        "from statistics import mode\n",
        "import nltk\n",
        "from nltk import word_tokenize\n",
        "from nltk.stem import LancasterStemmer\n",
        "nltk.download('wordnet')\n",
        "nltk.download('stopwords')\n",
        "nltk.download('punkt')\n",
        "from nltk.corpus import stopwords\n",
        "from tensorflow.keras.models import Model\n",
        "from tensorflow.keras import models\n",
        "from tensorflow.keras import backend as K\n",
        "from tensorflow.keras.preprocessing.sequence import pad_sequences\n",
        "from tensorflow.keras.preprocessing.text import Tokenizer \n",
        "from tensorflow.keras.utils import plot_model\n",
        "from tensorflow.keras.layers import Input,LSTM,Embedding,Dense,Concatenate,Attention\n",
        "from sklearn.model_selection import train_test_split\n",
        "from bs4 import BeautifulSoup"
      ]
    },
    {
      "cell_type": "code",
      "execution_count": null,
      "metadata": {
        "id": "44Y4upJ9hL4k"
      },
      "outputs": [],
      "source": [
        "#read the dataset file for text Summarizer\n",
        "df=pd.read_csv(\"train.csv\",nrows=100000)\n",
        "#drop the duplicate and na values from the records\n",
        "df.drop_duplicates(subset=['Abstract'],inplace=True)\n",
        "df.dropna(axis=0,inplace=True)\n",
        "input_data = df.loc[:,'Abstract']\n",
        "target_data = df.loc[:,'RHS']\n",
        "target_data.replace('', np.nan, inplace=True)"
      ]
    },
    {
      "cell_type": "code",
      "execution_count": null,
      "metadata": {
        "id": "kpe_JSHkhUIn"
      },
      "outputs": [],
      "source": [
        "input_texts=[]\n",
        "target_texts=[]\n",
        "input_words=[]\n",
        "target_words=[]\n",
        "contractions=pickle.load(open(\"contractions.pkl\",\"rb\"))['contractions']\n",
        "#initialize stop words and LancasterStemmer\n",
        "stop_words=set(stopwords.words('english'))\n",
        "stemm=LancasterStemmer()"
      ]
    },
    {
      "cell_type": "code",
      "execution_count": null,
      "metadata": {
        "id": "6ndSfUb-hviK"
      },
      "outputs": [],
      "source": [
        "def clean(texts,src):\n",
        "  #remove the html tags\n",
        "  texts = BeautifulSoup(texts, \"lxml\").text\n",
        "  #tokenize the text into words \n",
        "  words=word_tokenize(texts.lower())\n",
        "  #filter words which contains \\ \n",
        "  #integers or their length is less than or equal to 3\n",
        "  words= list(filter(lambda w:(w.isalpha() and len(w)>=3),words))\n",
        "  #contraction file to expand shortened words\n",
        "  words= [contractions[w] if w in contractions else w for w in words ]\n",
        "  #stem the words to their root word and filter stop words\n",
        "  if src==\"inputs\":\n",
        "    words= [stemm.stem(w) for w in words if w not in stop_words]\n",
        "  else:\n",
        "    words= [w for w in words if w not in stop_words]\n",
        "  return words"
      ]
    },
    {
      "cell_type": "code",
      "execution_count": null,
      "metadata": {
        "id": "0DONaLB0ibKu"
      },
      "outputs": [],
      "source": []
    },
    {
      "cell_type": "code",
      "execution_count": null,
      "metadata": {
        "id": "KIh2--T2ic0p"
      },
      "outputs": [],
      "source": [
        "#pass the input records and taret records\n",
        "for in_txt,tr_txt in zip(input_data,target_data):\n",
        "  in_words= clean(in_txt,\"inputs\")\n",
        "  input_texts+= [' '.join(in_words)]\n",
        "  input_words+= in_words\n",
        "  #add 'sos' at start and 'eos' at end of text\n",
        "  tr_words= clean(\"sos \"+tr_txt+\" eos\",\"target\")\n",
        "  target_texts+= [' '.join(tr_words)]\n",
        "  target_words+= tr_words"
      ]
    },
    {
      "cell_type": "code",
      "execution_count": null,
      "metadata": {
        "id": "tlmSjP8Cie7-"
      },
      "outputs": [],
      "source": [
        "#store only unique words from input and target list of words\n",
        "input_words = sorted(list(set(input_words)))\n",
        "target_words = sorted(list(set(target_words)))\n",
        "num_in_words = len(input_words) #total number of input words\n",
        "num_tr_words = len(target_words) #total number of target words\n",
        " \n",
        "#get the length of the input and target texts which appears most often  \n",
        "max_in_len = mode([len(i) for i in input_texts])\n",
        "# max_in_len = 100\n",
        "max_tr_len = mode([len(i) for i in target_texts])\n",
        "# max_tr_len = 50\n",
        " \n",
        "print(\"number of input words : \",num_in_words)\n",
        "print(\"number of target words : \",num_tr_words)\n",
        "print(\"maximum input length : \",max_in_len)\n",
        "print(\"maximum target length : \",max_tr_len)"
      ]
    },
    {
      "cell_type": "code",
      "execution_count": null,
      "metadata": {
        "id": "YbRRVSBOihRf"
      },
      "outputs": [],
      "source": [
        "#split the input and target text into 80:20 ratio or testing size of 20%.\n",
        "x_train,x_test,y_train,y_test=train_test_split(input_texts,target_texts,test_size=0.2,random_state=0) "
      ]
    },
    {
      "cell_type": "code",
      "execution_count": null,
      "metadata": {
        "id": "Zddlpr_wijrF"
      },
      "outputs": [],
      "source": [
        "#train the tokenizer with all the words\n",
        "in_tokenizer = Tokenizer()\n",
        "in_tokenizer.fit_on_texts(x_train)\n",
        "tr_tokenizer = Tokenizer()\n",
        "tr_tokenizer.fit_on_texts(y_train)\n",
        " \n",
        "#convert text into sequence of integers\n",
        "#where the integer will be the index of that word\n",
        "x_train= in_tokenizer.texts_to_sequences(x_train) \n",
        "y_train= tr_tokenizer.texts_to_sequences(y_train)"
      ]
    },
    {
      "cell_type": "code",
      "execution_count": null,
      "metadata": {
        "id": "6nVwvW8Qil6p"
      },
      "outputs": [],
      "source": [
        "#pad array of 0's if the length is less than the maximum length \n",
        "en_in_data= pad_sequences(x_train,  maxlen=max_in_len, padding='post') \n",
        "dec_data= pad_sequences(y_train,  maxlen=max_tr_len, padding='post')\n",
        " \n",
        "#decoder input data will not include the last word \n",
        "#i.e. 'eos' in decoder input data\n",
        "dec_in_data = dec_data[:,:-1]\n",
        "#decoder target data will be one time step ahead as it will not include\n",
        "# the first word i.e 'sos'\n",
        "dec_tr_data = dec_data.reshape(len(dec_data),max_tr_len,1)[:,1:]"
      ]
    },
    {
      "cell_type": "code",
      "execution_count": null,
      "metadata": {
        "id": "Lyg-JwxviqG8"
      },
      "outputs": [],
      "source": [
        "K.clear_session() \n",
        "latent_dim = 500\n",
        " \n",
        "#create input object of total number of encoder words\n",
        "en_inputs = Input(shape=(max_in_len,)) \n",
        "en_embedding = Embedding(num_in_words+1, latent_dim,trainable = True)(en_inputs) \n",
        "\n",
        "\n",
        "#create 3 stacked LSTM layer with the shape of hidden dimension for text summarizer using deep learning\n",
        "#LSTM 1\n",
        "en_lstm1= LSTM(latent_dim, return_state=True, return_sequences=True,dropout=0.2) \n",
        "en_outputs1, state_h1, state_c1= en_lstm1(en_embedding)\n",
        " \n",
        "#LSTM2\n",
        "en_lstm2= LSTM(latent_dim, return_state=True, return_sequences=True,dropout=0.2) \n",
        "en_outputs2, state_h2, state_c2= en_lstm2(en_outputs1) \n",
        " \n",
        "#LSTM3\n",
        "en_lstm3= LSTM(latent_dim,return_sequences=True,return_state=True,dropout=0.2)\n",
        "en_outputs3 , state_h3 , state_c3= en_lstm3(en_outputs2)\n",
        " \n",
        "#encoder states\n",
        "en_states= [state_h3, state_c3]"
      ]
    },
    {
      "cell_type": "code",
      "execution_count": null,
      "metadata": {
        "id": "r48rfBk1isK3"
      },
      "outputs": [],
      "source": [
        "# Decoder. \n",
        "dec_inputs = Input(shape=(None,)) \n",
        "dec_emb_layer = Embedding(num_tr_words+1, latent_dim,trainable = True) \n",
        "dec_embedding = dec_emb_layer(dec_inputs) \n",
        " \n",
        "#initialize decoder's LSTM layer with the output states of encoder\n",
        "dec_lstm = LSTM(latent_dim, return_sequences=True, return_state=True)\n",
        "dec_outputs, *_ = dec_lstm(dec_embedding,initial_state=en_states) "
      ]
    },
    {
      "cell_type": "code",
      "execution_count": null,
      "metadata": {
        "id": "L2HfwMHviuGi"
      },
      "outputs": [],
      "source": [
        "#Attention layer\n",
        "attention =Attention()\n",
        "attn_out = attention([dec_outputs,en_outputs3])\n",
        " \n",
        "#Concatenate the attention output with the decoder outputs\n",
        "merge=Concatenate(axis=-1, name='concat_layer1')([dec_outputs,attn_out])"
      ]
    },
    {
      "cell_type": "code",
      "execution_count": null,
      "metadata": {
        "id": "wMQ_e0sIiv1O"
      },
      "outputs": [],
      "source": [
        "#Dense layer (output layer)\n",
        "dec_dense = Dense(num_tr_words+1, activation='softmax') \n",
        "dec_outputs = dec_dense(merge) "
      ]
    },
    {
      "cell_type": "code",
      "execution_count": null,
      "metadata": {
        "id": "kgFfV_RriyBy"
      },
      "outputs": [],
      "source": [
        "#Model class and model summary for text Summarizer\n",
        "model = Model([en_inputs, dec_inputs], dec_outputs) \n",
        "model.summary()\n",
        "plot_model(model, to_file='model_plot.png', show_shapes=True, show_layer_names=True)"
      ]
    },
    {
      "cell_type": "code",
      "execution_count": null,
      "metadata": {
        "id": "Ze1Z3Yiwi0Fe"
      },
      "outputs": [],
      "source": [
        "model.compile( \n",
        "    optimizer=\"sgd\", loss=\"sparse_categorical_crossentropy\", metrics=[\"accuracy\"] ) \n",
        "history = model.fit( \n",
        "    [en_in_data, dec_in_data],\n",
        "    dec_tr_data, \n",
        "    batch_size=100, \n",
        "    epochs=10, \n",
        "    validation_split=0.1,\n",
        "    )\n",
        " \n",
        "#Save model\n",
        "model.save(\"s2s\")"
      ]
    },
    {
      "cell_type": "code",
      "execution_count": null,
      "metadata": {
        "id": "GDvN_gl_i1p_"
      },
      "outputs": [],
      "source": [
        "# encoder inference\n",
        "latent_dim=500\n",
        "#/content/gdrive/MyDrive/Text Summarizer/\n",
        "#load the model\n",
        "model = models.load_model(\"s2s\")\n",
        " \n",
        "#construct encoder model from the output of 6 layer i.e.last LSTM layer\n",
        "en_outputs,state_h_enc,state_c_enc = model.layers[6].output\n",
        "en_states=[state_h_enc,state_c_enc]\n",
        "#add input and state from the layer.\n",
        "en_model = Model(model.input[0],[en_outputs]+en_states)"
      ]
    },
    {
      "cell_type": "code",
      "execution_count": null,
      "metadata": {
        "id": "1kCQfit7i3QW"
      },
      "outputs": [],
      "source": [
        "# decoder inference\n",
        "#create Input object for hidden and cell state for decoder\n",
        "#shape of layer with hidden or latent dimension\n",
        "dec_state_input_h = Input(shape=(latent_dim,))\n",
        "dec_state_input_c = Input(shape=(latent_dim,))\n",
        "dec_hidden_state_input = Input(shape=(max_in_len,latent_dim))\n",
        " \n",
        "# Get the embeddings and input layer from the model\n",
        "dec_inputs = model.input[1]\n",
        "dec_emb_layer = model.layers[5]\n",
        "dec_lstm = model.layers[7]\n",
        "dec_embedding= dec_emb_layer(dec_inputs)\n",
        " \n",
        "#add input and initialize LSTM layer with encoder LSTM states.\n",
        "dec_outputs2, state_h2, state_c2 = dec_lstm(dec_embedding, initial_state=[dec_state_input_h,dec_state_input_c])"
      ]
    },
    {
      "cell_type": "code",
      "execution_count": null,
      "metadata": {
        "id": "K4P-LebSi5cZ"
      },
      "outputs": [],
      "source": [
        "#Attention layer\n",
        "attention = model.layers[8]\n",
        "attn_out2 = attention([dec_outputs2,dec_hidden_state_input])\n",
        " \n",
        "merge2 = Concatenate(axis=-1)([dec_outputs2, attn_out2])"
      ]
    },
    {
      "cell_type": "code",
      "execution_count": null,
      "metadata": {
        "id": "WMRHzmWWi7Vc"
      },
      "outputs": [],
      "source": [
        "#Dense layer\n",
        "dec_dense = model.layers[10]\n",
        "dec_outputs2 = dec_dense(merge2)\n",
        " \n",
        "# Finally define the Model Class\n",
        "dec_model = Model(\n",
        "[dec_inputs] + [dec_hidden_state_input,dec_state_input_h,dec_state_input_c],\n",
        "[dec_outputs2] + [state_h2, state_c2])"
      ]
    },
    {
      "cell_type": "code",
      "execution_count": null,
      "metadata": {
        "id": "d8xVJyDii9DM"
      },
      "outputs": [],
      "source": [
        "#create a dictionary with a key as index and value as words.\n",
        "reverse_target_word_index = tr_tokenizer.index_word\n",
        "reverse_source_word_index = in_tokenizer.index_word\n",
        "target_word_index = tr_tokenizer.word_index\n",
        "reverse_target_word_index[0]=' '\n",
        "\n",
        "from matplotlib import pyplot as pyplot\n",
        "\n",
        "\n",
        "pyplot.plot(history.history['loss'], label='train')\n",
        "pyplot.plot(history.history['val_loss'], label='test')\n",
        "pyplot.legend()\n",
        "pyplot.show()\n",
        "\n",
        "\n",
        "def decode_sequence(input_seq):\n",
        "    #get the encoder output and states by passing the input sequence\n",
        "    en_out, en_h, en_c= en_model.predict(input_seq)\n",
        " \n",
        "    #target sequence with initial word as 'sos'\n",
        "    target_seq = np.zeros((1, 1))\n",
        "    target_seq[0, 0] = target_word_index['sos']\n",
        " \n",
        "    #if the iteration reaches the end of text than it will be stop the iteration\n",
        "    stop_condition = False\n",
        "    #append every predicted word in decoded sentence\n",
        "    decoded_sentence = \"\"\n",
        "    while not stop_condition: \n",
        "        #get predicted output, hidden and cell state.\n",
        "        output_words, dec_h, dec_c= dec_model.predict([target_seq] + [en_out,en_h, en_c])\n",
        "        \n",
        "        #get the index and from the dictionary get the word for that index.\n",
        "        word_index = np.argmax(output_words[0, -1, :])\n",
        "        text_word = reverse_target_word_index[word_index]\n",
        "        if(text_word!=\"eos\"):\n",
        "          decoded_sentence += text_word +\" \"\n",
        "        # Exit condition: either hit max length\n",
        "      # or find a stop word or last word.\n",
        "          if text_word == \"eos\" or len(decoded_sentence) >= (max_tr_len+1):\n",
        "            stop_condition = True\n",
        "      #update target sequence to the current word index.\n",
        "        target_seq = np.zeros((1, 1))\n",
        "        target_seq[0, 0] = word_index\n",
        "        en_h, en_c = dec_h, dec_c\n",
        "    #return the decoded sentence\n",
        "    return decoded_sentence\n",
        "def seq2summary(input_seq):\n",
        "    newString=''\n",
        "    for i in input_seq:\n",
        "      if((i!=0 and i!=target_word_index['start']) and i!=target_word_index['end']):\n",
        "        newString=newString+reverse_target_word_index[i]+' '\n",
        "    return newString\n",
        "\n",
        "def seq2text(input_seq):\n",
        "    newString=''\n",
        "    for i in input_seq:\n",
        "      if(i!=0):\n",
        "        newString=newString+reverse_source_word_index[i]+' '\n",
        "    return newString\n",
        "    \n",
        "\n",
        "\n"
      ]
    },
    {
      "cell_type": "code",
      "source": [
        "for i in range(5):\n",
        "  print(\"Review:\",seq2text(en_in_data[i]))\n",
        "  print(\"Original summary:\",seq2summary(dec_data[i]))\n",
        "  print(en_in_data[i].reshape(1,max_in_len))\n",
        "  print(\"Predicted summary:\",decode_sequence(en_in_data[i].reshape(1,max_in_len)))\n",
        "  print(\"\\n\")"
      ],
      "metadata": {
        "id": "QI7FbSAydxrP"
      },
      "execution_count": null,
      "outputs": []
    },
    {
      "cell_type": "code",
      "execution_count": null,
      "metadata": {
        "id": "16p_qdWIjAii"
      },
      "outputs": [],
      "source": [
        "inp_review = input(\"Enter : \")\n",
        "print(\"Review :\",inp_review)\n",
        "inp_review = clean(inp_review,\"inputs\")\n",
        "inp_review = ' '.join(inp_review)\n",
        "inp_x= in_tokenizer.texts_to_sequences([inp_review]) \n",
        "inp_x= pad_sequences(inp_x,  maxlen=max_in_len, padding='post')\n",
        "\n",
        "summary=decode_sequence(inp_x.reshape(1,max_in_len))\n",
        "if 'eos' in summary :\n",
        "  summary=summary.replace('eos','')\n",
        "print(\"\\nPredicted summary:\",summary);print(\"\\n\")"
      ]
    },
    {
      "cell_type": "code",
      "source": [],
      "metadata": {
        "id": "C4gJhdQSaDqx"
      },
      "execution_count": null,
      "outputs": []
    }
  ],
  "metadata": {
    "accelerator": "GPU",
    "colab": {
      "collapsed_sections": [],
      "private_outputs": true,
      "provenance": [],
      "include_colab_link": true
    },
    "gpuClass": "standard",
    "kernelspec": {
      "display_name": "Python 3.8.10 64-bit",
      "language": "python",
      "name": "python3"
    },
    "language_info": {
      "codemirror_mode": {
        "name": "ipython",
        "version": 3
      },
      "file_extension": ".py",
      "mimetype": "text/x-python",
      "name": "python",
      "nbconvert_exporter": "python",
      "pygments_lexer": "ipython3",
      "version": "3.8.10"
    },
    "vscode": {
      "interpreter": {
        "hash": "916dbcbb3f70747c44a77c7bcd40155683ae19c65e1c03b4aa3499c5328201f1"
      }
    }
  },
  "nbformat": 4,
  "nbformat_minor": 0
}